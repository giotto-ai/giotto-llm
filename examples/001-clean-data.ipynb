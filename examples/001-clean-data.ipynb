{
 "cells": [
  {
   "cell_type": "markdown",
   "metadata": {},
   "source": [
    "# Store clean and augmented data\n",
    "\n",
    "Source --> https://www.kaggle.com/code/ironbar/generate-training-samples-using-re-arc\n",
    "\n",
    "***"
   ]
  },
  {
   "cell_type": "markdown",
   "metadata": {},
   "source": [
    "## Get `re-arc`"
   ]
  },
  {
   "cell_type": "code",
   "execution_count": null,
   "metadata": {},
   "outputs": [],
   "source": [
    "# !git clone https://github.com/michaelhodel/re-arc.git\n",
    "%cd re-arc/\n",
    "!pwd"
   ]
  },
  {
   "cell_type": "markdown",
   "metadata": {},
   "source": [
    "## Config"
   ]
  },
  {
   "cell_type": "code",
   "execution_count": 2,
   "metadata": {},
   "outputs": [],
   "source": [
    "n_tasks = 5\n",
    "n_examples = 20\n",
    "random_seed = 0\n",
    "\n",
    "assert n_examples % n_tasks == 0"
   ]
  },
  {
   "cell_type": "code",
   "execution_count": 3,
   "metadata": {},
   "outputs": [],
   "source": [
    "import json\n",
    "import hashlib\n",
    "import pickle\n",
    "\n",
    "from tqdm.auto import tqdm\n",
    "import numpy as np\n",
    "\n",
    "from main import generate_dataset\n",
    "from llm_prompts.plot.matplotlib_plots import plot_ARC"
   ]
  },
  {
   "cell_type": "code",
   "execution_count": 4,
   "metadata": {},
   "outputs": [],
   "source": [
    "# generate_dataset(n_examples=n_examples, seed=random_seed)"
   ]
  },
  {
   "cell_type": "markdown",
   "metadata": {},
   "source": [
    "## Make new tasks"
   ]
  },
  {
   "cell_type": "code",
   "execution_count": null,
   "metadata": {},
   "outputs": [],
   "source": [
    "with open('../../../kaggle/input/arc-agi_training_challenges.json', 'r') as f:\n",
    "    train = json.load(f)\n",
    "print(len(train))"
   ]
  },
  {
   "cell_type": "code",
   "execution_count": 6,
   "metadata": {},
   "outputs": [],
   "source": [
    "# new_dataset = dict()\n",
    "# np.random.seed(random_seed)\n",
    "\n",
    "# print(f\">>> Generating {n_tasks} ARC like tasks for each training task\")\n",
    "\n",
    "# for task_id, task in tqdm(train.items(), total=len(train), desc='creating new tasks'):\n",
    "#     n_train_samples = len(task['train'])\n",
    "#     with open(f're_arc/tasks/{task_id}.json', 'r') as f:\n",
    "#         generated_samples = json.load(f)\n",
    "\n",
    "#     assert n_examples == len(generated_samples)\n",
    "#     num_pairs_per_task = n_examples // n_tasks\n",
    "#     indices = np.arange(len(generated_samples))\n",
    "\n",
    "\n",
    "#     for idx_task in range(n_tasks):\n",
    "#         indices_pairs_task = indices[idx_task * num_pairs_per_task:(idx_task + 1) * num_pairs_per_task]\n",
    "#         new_task = {\n",
    "#             \"train\": [generated_samples[idx] for idx in indices_pairs_task[:-1]],\n",
    "#             \"test\": [generated_samples[indices_pairs_task[-1]]]\n",
    "#         }\n",
    "#         new_task_id = hashlib.md5(str(new_task).encode()).hexdigest()\n",
    "#         new_dataset[f'{task_id}_{new_task_id}'] = new_task\n",
    "\n",
    "\n",
    "# print(len(new_dataset))\n",
    "# print(400 * n_tasks)"
   ]
  },
  {
   "cell_type": "code",
   "execution_count": 7,
   "metadata": {},
   "outputs": [],
   "source": [
    "path_to_new_dataset = f\"../../../synth_data/re_arc_400x{n_tasks}.pickle\""
   ]
  },
  {
   "cell_type": "code",
   "execution_count": 8,
   "metadata": {},
   "outputs": [],
   "source": [
    "# with open(path_to_new_dataset, \"wb\") as f:\n",
    "#     pickle.dump(new_dataset, f)"
   ]
  },
  {
   "cell_type": "markdown",
   "metadata": {},
   "source": [
    "## Sanity check \n",
    "\n",
    "We plot a few synthetic ARC tasks as a sanity check."
   ]
  },
  {
   "cell_type": "code",
   "execution_count": null,
   "metadata": {},
   "outputs": [],
   "source": [
    "with open(path_to_new_dataset, \"rb\") as f:\n",
    "    new_dataset = pickle.load(f)\n",
    "\n",
    "sorted_task_ids = sorted(new_dataset.keys())\n",
    "\n",
    "for idx in [0, 300, 600, 900, 1000]:\n",
    "    task_id = sorted_task_ids[idx]\n",
    "    task = new_dataset[task_id]\n",
    "    plot_ARC(task=task, plot_size=3, title=f\"Task_id: {task_id}\", grid_lines_color=\"#AAAAAA\")"
   ]
  },
  {
   "cell_type": "code",
   "execution_count": null,
   "metadata": {},
   "outputs": [],
   "source": []
  }
 ],
 "metadata": {
  "kernelspec": {
   "display_name": "python-venv",
   "language": "python",
   "name": "python3"
  },
  "language_info": {
   "codemirror_mode": {
    "name": "ipython",
    "version": 3
   },
   "file_extension": ".py",
   "mimetype": "text/x-python",
   "name": "python",
   "nbconvert_exporter": "python",
   "pygments_lexer": "ipython3",
   "version": "3.10.12"
  }
 },
 "nbformat": 4,
 "nbformat_minor": 2
}
