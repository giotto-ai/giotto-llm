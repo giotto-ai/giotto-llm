{
 "cells": [
  {
   "cell_type": "code",
   "execution_count": 1,
   "metadata": {},
   "outputs": [],
   "source": [
    "test = [\n",
    "    \"00576224\",\n",
    "    \"2c737e39\",\n",
    "    \"642d658d\",\n",
    "    \"9b4c17c4\",\n",
    "    \"cd3c21df\",\n",
    "    \"009d5c81\",\n",
    "    \"32e9702f\",\n",
    "    \"64a7c07e\",\n",
    "    \"9c56f360\",\n",
    "    \"cf133acc\",\n",
    "    \"00dbd492\",\n",
    "    \"332efdb3\",\n",
    "    \"66f2d22f\",\n",
    "    \"9caba7c3\",\n",
    "    \"d19f7514\",\n",
    "    \"0692e18c\",\n",
    "    \"3391f8c0\",\n",
    "    \"67636eac\",\n",
    "    \"9ddd00f0\",\n",
    "    \"d2acf2cb\",\n",
    "    \"070dd51e\",\n",
    "    \"33b52de3\",\n",
    "    \"6ad5bdfd\",\n",
    "    \"a04b2602\",\n",
    "    \"d37a1ef5\",\n",
    "    \"09c534e7\",\n",
    "    \"3490cc26\",\n",
    "    \"6ea4a07e\",\n",
    "    \"a3f84088\",\n",
    "    \"d4c90558\",\n",
    "    \"0bb8deee\",\n",
    "    \"34b99a2b\",\n",
    "    \"72207abc\",\n",
    "    \"a59b95c0\",\n",
    "    \"d5c634a2\",\n",
    "    \"0c786b71\",\n",
    "    \"358ba94e\",\n",
    "    \"72a961c9\",\n",
    "    \"a680ac02\",\n",
    "    \"d94c3b52\",\n",
    "    \"0d87d2a6\",\n",
    "    \"37d3e8b2\",\n",
    "    \"762cd429\",\n",
    "    \"aa18de87\",\n",
    "    \"da2b0fe3\",\n",
    "    \"103eff5b\",\n",
    "    \"3ed85e70\",\n",
    "    \"79369cc6\",\n",
    "    \"aab50785\",\n",
    "    \"dc2e9a9d\",\n",
    "    \"12422b43\",\n",
    "    \"3ee1011a\",\n",
    "    \"7953d61e\",\n",
    "    \"ac0c5833\",\n",
    "    \"dd2401ed\",\n",
    "    \"13713586\",\n",
    "    \"42918530\",\n",
    "    \"7bb29440\",\n",
    "    \"ac3e2b04\",\n",
    "    \"de493100\",\n",
    "    \"140c817e\",\n",
    "    \"4364c1c4\",\n",
    "    \"7c9b52a0\",\n",
    "    \"ac605cbb\",\n",
    "    \"e0fb7511\",\n",
    "    \"14754a24\",\n",
    "    \"456873bc\",\n",
    "    \"7d1f7ee8\",\n",
    "    \"ad7e01d0\",\n",
    "    \"e133d23d\",\n",
    "    \"15113be4\",\n",
    "    \"45737921\",\n",
    "    \"7ee1c6ea\",\n",
    "    \"af22c60d\",\n",
    "    \"e1baa8a4\",\n",
    "    \"16b78196\",\n",
    "    \"477d2879\",\n",
    "    \"817e6c09\",\n",
    "    \"b15fca0b\",\n",
    "    \"e1d2900e\",\n",
    "    \"17b80ad2\",\n",
    "    \"48131b3c\",\n",
    "    \"84db8fc4\",\n",
    "    \"b1fc8b8e\",\n",
    "    \"e21a174a\",\n",
    "    \"17cae0c1\",\n",
    "    \"48f8583b\",\n",
    "    \"84f2aca1\",\n",
    "    \"b4a43f3b\",\n",
    "    \"e345f17b\",\n",
    "    \"184a9768\",\n",
    "    \"4aab4007\",\n",
    "    \"8597cfd7\",\n",
    "    \"b7cb93ac\",\n",
    "    \"e41c6fd3\",\n",
    "    \"1990f7a8\",\n",
    "    \"4b6b68e5\",\n",
    "    \"85b81ff1\",\n",
    "    \"b7fb29bc\",\n",
    "    \"e5790162\",\n",
    "    \"19bb5feb\",\n",
    "    \"4cd1b7b2\",\n",
    "    \"8719f442\",\n",
    "    \"ba9d41b8\",\n",
    "    \"e619ca6e\",\n",
    "    \"1a6449f1\",\n",
    "    \"4e45f183\",\n",
    "    \"891232d6\",\n",
    "    \"baf41dbf\",\n",
    "    \"e633a9e5\",\n",
    "    \"1acc24af\",\n",
    "    \"4f537728\",\n",
    "    \"896d5239\",\n",
    "    \"bcb3040b\",\n",
    "    \"e681b708\",\n",
    "    \"1c02dbbe\",\n",
    "    \"4ff4c9da\",\n",
    "    \"8a371977\",\n",
    "    \"bd14c3bf\",\n",
    "    \"e6de6e8f\",\n",
    "    \"1c0d0a4b\",\n",
    "    \"505fff84\",\n",
    "    \"8b28cd80\",\n",
    "    \"be03b35f\",\n",
    "    \"e760a62e\",\n",
    "    \"1d0a4b61\",\n",
    "    \"50aad11f\",\n",
    "    \"8dae5dfc\",\n",
    "    \"bf32578f\",\n",
    "    \"e7639916\",\n",
    "    \"1d398264\",\n",
    "    \"50f325b5\",\n",
    "    \"8ee62060\",\n",
    "    \"bf699163\",\n",
    "    \"e7b06bea\",\n",
    "    \"2037f2c7\",\n",
    "    \"516b51b7\",\n",
    "    \"8fbca751\",\n",
    "    \"bf89d739\",\n",
    "    \"e99362f0\",\n",
    "    \"20981f0e\",\n",
    "    \"5289ad53\",\n",
    "    \"903d1b4a\",\n",
    "    \"c074846d\",\n",
    "    \"e9bb6954\",\n",
    "    \"212895b5\",\n",
    "    \"52fd389e\",\n",
    "    \"9110e3c5\",\n",
    "    \"c1990cce\",\n",
    "    \"e9c9d9a1\",\n",
    "    \"21f83797\",\n",
    "    \"55059096\",\n",
    "    \"917bccba\",\n",
    "    \"c48954c1\",\n",
    "    \"ea959feb\",\n",
    "    \"25094a63\",\n",
    "    \"551d5bf1\",\n",
    "    \"93c31fbe\",\n",
    "    \"c62e2108\",\n",
    "    \"ea9794b1\",\n",
    "    \"256b0a75\",\n",
    "    \"55783887\",\n",
    "    \"94133066\",\n",
    "    \"c64f1187\",\n",
    "    \"ef26cbf6\",\n",
    "    \"2685904e\",\n",
    "    \"5783df64\",\n",
    "    \"94414823\",\n",
    "    \"c663677b\",\n",
    "    \"f0afb749\",\n",
    "    \"2753e76c\",\n",
    "    \"5833af48\",\n",
    "    \"963f59bc\",\n",
    "    \"c6e1b8da\",\n",
    "    \"f21745ec\",\n",
    "    \"27a77e38\",\n",
    "    \"5b6cbef5\",\n",
    "    \"96a8c0cd\",\n",
    "    \"c87289bb\",\n",
    "    \"f45f5ca7\",\n",
    "    \"27f8ce4f\",\n",
    "    \"5d2a5c43\",\n",
    "    \"97239e3d\",\n",
    "    \"c8b7cc0f\",\n",
    "    \"f8be4b64\",\n",
    "    \"281123b4\",\n",
    "    \"62ab2642\",\n",
    "    \"9772c176\",\n",
    "    \"c97c0139\",\n",
    "    \"fc754716\",\n",
    "    \"292dd178\",\n",
    "    \"62b74c02\",\n",
    "    \"992798f6\",\n",
    "    \"cad67732\",\n",
    "    \"fd096ab6\",\n",
    "    \"29700607\",\n",
    "    \"639f5a19\",\n",
    "    \"99306f82\",\n",
    "    \"ccd554ac\",\n",
    "    \"fe9372f3\",\n",
    "]"
   ]
  },
  {
   "cell_type": "code",
   "execution_count": 3,
   "metadata": {},
   "outputs": [],
   "source": [
    "import json \n",
    "\n",
    "eval_challenges = \"/home/mehron/giotto-llm/kaggle/input/arc-agi_evaluation_challenges.json\"\n",
    "eval_challenges_solution = \"/home/mehron/giotto-llm/kaggle/input/arc-agi_evaluation_solutions.json\"\n",
    "\n",
    "test_challenges = {}\n",
    "test_solutions = {}\n",
    "\n",
    "with open(eval_challenges, \"r\") as f:\n",
    "    eval_challenges = json.load(f)\n",
    "\n",
    "with open(eval_challenges_solution, \"r\") as f:\n",
    "    eval_solutions = json.load(f)\n",
    "\n",
    "for key in eval_challenges:\n",
    "    if key in test:\n",
    "        test_challenges[key] = eval_challenges[key]\n",
    "        test_solutions[key] = eval_solutions[key]\n",
    "\n",
    "with open(\"/home/mehron/giotto-llm/kaggle/input/arc-agi_200_test_challenges.json\", \"w\") as f:\n",
    "    json.dump(test_challenges, f)\n",
    "\n",
    "with open(\"/home/mehron/giotto-llm/kaggle/input/arc-agi_200_test_solutions.json\", \"w\") as f:\n",
    "    json.dump(test_solutions, f)"
   ]
  },
  {
   "cell_type": "code",
   "execution_count": 1,
   "metadata": {},
   "outputs": [
    {
     "name": "stdout",
     "output_type": "stream",
     "text": [
      "Original submission: 195\n",
      "Final submission: 800\n"
     ]
    },
    {
     "ename": "",
     "evalue": "",
     "output_type": "error",
     "traceback": [
      "\u001b[1;31mThe Kernel crashed while executing code in the current cell or a previous cell. \n",
      "\u001b[1;31mPlease review the code in the cell(s) to identify a possible cause of the failure. \n",
      "\u001b[1;31mClick <a href='https://aka.ms/vscodeJupyterKernelCrash'>here</a> for more info. \n",
      "\u001b[1;31mView Jupyter <a href='command:jupyter.viewOutput'>log</a> for further details."
     ]
    }
   ],
   "source": [
    "import json\n",
    "from giotto_llm.consts import DEFAULT_ATTEMPT\n",
    "\n",
    "all_tasks = \"/home/mehron/giotto-llm/kaggle/input/arc-agi_full_challenges.json\"\n",
    "submission_dir = \"/home/mehron/giotto-llm/bfs_llama_1B_notr_arc_augmented_v5_16_transforms_dfs_sampling_10/predictions/\"\n",
    "\n",
    "with open(all_tasks, \"r\") as f:\n",
    "    all_tasks = json.load(f)\n",
    "\n",
    "with open(f\"{submission_dir}/submission.json\", \"r\") as f:\n",
    "    submission = json.load(f)\n",
    "\n",
    "print(f\"Original submission: {len(submission)}\")\n",
    "\n",
    "for task in all_tasks:\n",
    "    if task not in submission:\n",
    "        submission[task] = [{\"attempt_1\": DEFAULT_ATTEMPT, \"attempt_2\": DEFAULT_ATTEMPT} for _ in range(len(all_tasks[task][\"test\"]))]\n",
    "\n",
    "print(f\"Final submission: {len(submission)}\")\n",
    "\n",
    "with open(f\"{submission_dir}/final_submission.json\", \"w\") as f:\n",
    "    json.dump(submission, f)"
   ]
  },
  {
   "cell_type": "code",
   "execution_count": 1,
   "metadata": {},
   "outputs": [
    {
     "name": "stdout",
     "output_type": "stream",
     "text": [
      "tensor([1, 2, 3])\n"
     ]
    }
   ],
   "source": [
    "import torch\n",
    "x =  torch.tensor([1,2,3])\n",
    "\n",
    "x.to('cuda')\n",
    "print(x)\n"
   ]
  },
  {
   "cell_type": "code",
   "execution_count": 15,
   "metadata": {},
   "outputs": [
    {
     "data": {
      "text/plain": [
       "tensor([1])"
      ]
     },
     "execution_count": 15,
     "metadata": {},
     "output_type": "execute_result"
    },
    {
     "ename": "",
     "evalue": "",
     "output_type": "error",
     "traceback": [
      "\u001b[1;31mThe Kernel crashed while executing code in the current cell or a previous cell. \n",
      "\u001b[1;31mPlease review the code in the cell(s) to identify a possible cause of the failure. \n",
      "\u001b[1;31mClick <a href='https://aka.ms/vscodeJupyterKernelCrash'>here</a> for more info. \n",
      "\u001b[1;31mView Jupyter <a href='command:jupyter.viewOutput'>log</a> for further details."
     ]
    }
   ],
   "source": [
    "x = torch.tensor([1,2,3])\n",
    "\n",
    "torch.where(x == 2)[0]"
   ]
  },
  {
   "cell_type": "code",
   "execution_count": null,
   "metadata": {},
   "outputs": [],
   "source": []
  },
  {
   "cell_type": "code",
   "execution_count": null,
   "metadata": {},
   "outputs": [],
   "source": []
  },
  {
   "cell_type": "code",
   "execution_count": 1,
   "metadata": {},
   "outputs": [
    {
     "name": "stdout",
     "output_type": "stream",
     "text": [
      "[(1, 2, 3)]\n"
     ]
    },
    {
     "ename": "",
     "evalue": "",
     "output_type": "error",
     "traceback": [
      "\u001b[1;31mThe Kernel crashed while executing code in the current cell or a previous cell. \n",
      "\u001b[1;31mPlease review the code in the cell(s) to identify a possible cause of the failure. \n",
      "\u001b[1;31mClick <a href='https://aka.ms/vscodeJupyterKernelCrash'>here</a> for more info. \n",
      "\u001b[1;31mView Jupyter <a href='command:jupyter.viewOutput'>log</a> for further details."
     ]
    }
   ],
   "source": [
    "import torch\n",
    "\n",
    "\n",
    "x = [(1,2,3)]\n",
    "y = x\n",
    "\n",
    "del x\n",
    "print(y)"
   ]
  },
  {
   "cell_type": "code",
   "execution_count": 24,
   "metadata": {},
   "outputs": [],
   "source": [
    "def pack_list_of_caches(self, caches, device=\"cuda\"):\n",
    "    # Input: List of caches each of which is a (tuple of layers, each layer is a tuple of tensors)\n",
    "    # Output: Tuple of layers, each layer is a tuple of tensors, each tensor is a batched\n",
    "    if not caches:\n",
    "        return None\n",
    "    \n",
    "    output_cache = []\n",
    "    for layer_cache in zip(*caches):\n",
    "        output_cache.append(tuple(torch.cat(tesnors, dim=0) for tesnors in zip(*layer_cache)))\n",
    "    return tuple(output_cache)\n",
    "\n",
    "def unpack_cache(self, cache, device=\"cpu\"):\n",
    "    if not cache:\n",
    "        return None\n",
    "    batch_size = len(cache[0][0])\n",
    "    return [tuple(tuple(tensor[i].unsqueeze(0).to(device) for tensor in layer_cache) for layer_cache in cache) for i in range(batch_size)]"
   ]
  },
  {
   "cell_type": "code",
   "execution_count": 23,
   "metadata": {},
   "outputs": [
    {
     "name": "stdout",
     "output_type": "stream",
     "text": [
      "((tensor([[ 1,  2,  3],\n",
      "        [-1, -2, -3]]), tensor([[ 4,  5,  6],\n",
      "        [-4, -5, -6]])), (tensor([[ 7,  8,  9],\n",
      "        [-7, -8, -9]]), tensor([[ 10,  11,  12],\n",
      "        [-10, -11, -12]])))\n"
     ]
    }
   ],
   "source": [
    "import torch\n",
    "unpack_cache_test = ((torch.tensor([[1,2,3], [-1,-2,-3]]), torch.tensor([[4,5,6], [-4, -5, -6]])), (torch.tensor([[7,8,9], [-7, -8, -9]]), torch.tensor([[10,11,12], [-10, -11, -12]])))\n",
    "print(unpack_cache_test)\n",
    "x = unpack_cache(unpack_cache_test)"
   ]
  },
  {
   "cell_type": "code",
   "execution_count": null,
   "metadata": {},
   "outputs": [],
   "source": []
  },
  {
   "cell_type": "code",
   "execution_count": 18,
   "metadata": {},
   "outputs": [
    {
     "data": {
      "text/plain": [
       "[((tensor([[1, 2, 3]]), tensor([[4, 5, 6]])),\n",
       "  (tensor([[7, 8, 9]]), tensor([[10, 11, 12]]))),\n",
       " ((tensor([[-1, -2, -3]]), tensor([[-4, -5, -6]])),\n",
       "  (tensor([[-7, -8, -9]]), tensor([[-10, -11, -12]])))]"
      ]
     },
     "execution_count": 18,
     "metadata": {},
     "output_type": "execute_result"
    }
   ],
   "source": [
    "x"
   ]
  },
  {
   "cell_type": "code",
   "execution_count": 26,
   "metadata": {},
   "outputs": [
    {
     "name": "stdout",
     "output_type": "stream",
     "text": [
      "((tensor([[1, 2, 3]]), tensor([[4, 5, 6]])), (tensor([[-1, -2, -3]]), tensor([[-4, -5, -6]])))\n",
      "[(tensor([[1, 2, 3]]), tensor([[-1, -2, -3]])), (tensor([[4, 5, 6]]), tensor([[-4, -5, -6]]))]\n",
      "((tensor([[7, 8, 9]]), tensor([[10, 11, 12]])), (tensor([[-7, -8, -9]]), tensor([[-10, -11, -12]])))\n",
      "[(tensor([[7, 8, 9]]), tensor([[-7, -8, -9]])), (tensor([[10, 11, 12]]), tensor([[-10, -11, -12]]))]\n"
     ]
    }
   ],
   "source": [
    "z=pack_list_of_caches(x)"
   ]
  },
  {
   "cell_type": "code",
   "execution_count": 28,
   "metadata": {},
   "outputs": [
    {
     "ename": "RuntimeError",
     "evalue": "Boolean value of Tensor with more than one value is ambiguous",
     "output_type": "error",
     "traceback": [
      "\u001b[0;31m---------------------------------------------------------------------------\u001b[0m",
      "\u001b[0;31mRuntimeError\u001b[0m                              Traceback (most recent call last)",
      "Cell \u001b[0;32mIn[28], line 1\u001b[0m\n\u001b[0;32m----> 1\u001b[0m \u001b[38;5;28;01massert\u001b[39;00m (\u001b[43mz\u001b[49m\u001b[43m \u001b[49m\u001b[38;5;241;43m==\u001b[39;49m\u001b[43m \u001b[49m\u001b[43munpack_cache_test\u001b[49m)\u001b[38;5;241m.\u001b[39mall()\n",
      "\u001b[0;31mRuntimeError\u001b[0m: Boolean value of Tensor with more than one value is ambiguous"
     ]
    }
   ],
   "source": [
    "assert (z == unpack_cache_test).all()"
   ]
  },
  {
   "cell_type": "code",
   "execution_count": 30,
   "metadata": {},
   "outputs": [
    {
     "data": {
      "text/plain": [
       "((tensor([[ 1,  2,  3],\n",
       "          [-1, -2, -3]]),\n",
       "  tensor([[ 4,  5,  6],\n",
       "          [-4, -5, -6]])),\n",
       " (tensor([[ 7,  8,  9],\n",
       "          [-7, -8, -9]]),\n",
       "  tensor([[ 10,  11,  12],\n",
       "          [-10, -11, -12]])))"
      ]
     },
     "execution_count": 30,
     "metadata": {},
     "output_type": "execute_result"
    }
   ],
   "source": [
    "z"
   ]
  },
  {
   "cell_type": "code",
   "execution_count": 31,
   "metadata": {},
   "outputs": [
    {
     "data": {
      "text/plain": [
       "((tensor([[ 1,  2,  3],\n",
       "          [-1, -2, -3]]),\n",
       "  tensor([[ 4,  5,  6],\n",
       "          [-4, -5, -6]])),\n",
       " (tensor([[ 7,  8,  9],\n",
       "          [-7, -8, -9]]),\n",
       "  tensor([[ 10,  11,  12],\n",
       "          [-10, -11, -12]])))"
      ]
     },
     "execution_count": 31,
     "metadata": {},
     "output_type": "execute_result"
    },
    {
     "ename": "",
     "evalue": "",
     "output_type": "error",
     "traceback": [
      "\u001b[1;31mThe Kernel crashed while executing code in the current cell or a previous cell. \n",
      "\u001b[1;31mPlease review the code in the cell(s) to identify a possible cause of the failure. \n",
      "\u001b[1;31mClick <a href='https://aka.ms/vscodeJupyterKernelCrash'>here</a> for more info. \n",
      "\u001b[1;31mView Jupyter <a href='command:jupyter.viewOutput'>log</a> for further details."
     ]
    }
   ],
   "source": [
    "unpack_cache_test"
   ]
  }
 ],
 "metadata": {
  "kernelspec": {
   "display_name": "venv",
   "language": "python",
   "name": "python3"
  },
  "language_info": {
   "codemirror_mode": {
    "name": "ipython",
    "version": 3
   },
   "file_extension": ".py",
   "mimetype": "text/x-python",
   "name": "python",
   "nbconvert_exporter": "python",
   "pygments_lexer": "ipython3",
   "version": "3.10.12"
  }
 },
 "nbformat": 4,
 "nbformat_minor": 2
}
