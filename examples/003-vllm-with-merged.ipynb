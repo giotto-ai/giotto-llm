{
 "cells": [
  {
   "cell_type": "markdown",
   "metadata": {},
   "source": [
    "# Test vllm with merged model"
   ]
  },
  {
   "cell_type": "markdown",
   "metadata": {},
   "source": [
    "***"
   ]
  },
  {
   "cell_type": "markdown",
   "metadata": {},
   "source": [
    "## Imports"
   ]
  },
  {
   "cell_type": "code",
   "execution_count": null,
   "metadata": {},
   "outputs": [],
   "source": [
    "import dataclasses\n",
    "import os\n",
    "import copy\n",
    "import pickle\n",
    "\n",
    "import numpy as np\n",
    "\n",
    "from notebooks_utils import get_clean_prompts\n",
    "\n",
    "# Prompts\n",
    "from llm_prompts.reader import ReaderMany\n",
    "# from llm_prompts.prompts.grid_formatter import GridFormatter\n",
    "from llm_prompts.prompts.text_prompts import PromptSolveInstrV2\n",
    "from llm_prompts.type_aliases import Grid\n",
    "\n",
    "# Transformers\n",
    "from transformers import AutoModelForCausalLM, AutoTokenizer\n",
    "\n",
    "# vLLM\n",
    "from vllm import SamplingParams, LLM"
   ]
  },
  {
   "cell_type": "markdown",
   "metadata": {},
   "source": [
    "## Legacy code"
   ]
  },
  {
   "cell_type": "code",
   "execution_count": 2,
   "metadata": {},
   "outputs": [],
   "source": [
    "DEFAULT_END_GRID_TOKEN = \"+++\"\n",
    "DEFAULT_END_ROW_TOKEN = \"\\n\"\n",
    "DEFAULT_START_GRID_TOKEN = \"!grid\\n\"\n",
    "DEFAULT_START_ROW_TOKEN = \"\"\n",
    "\n",
    "\n",
    "\n",
    "@dataclasses.dataclass(slots=True, kw_only=True, frozen=True)\n",
    "class GridFormatter:\n",
    "    start_grid_token: str = dataclasses.field(default=DEFAULT_START_GRID_TOKEN)\n",
    "    end_grid_token: str = dataclasses.field(default=DEFAULT_END_GRID_TOKEN)\n",
    "    start_row_token: str = dataclasses.field(default=DEFAULT_START_ROW_TOKEN)\n",
    "    end_row_token: str = dataclasses.field(default=DEFAULT_END_ROW_TOKEN)\n",
    "    color_separator_token: str = dataclasses.field(default=\"\")\n",
    "\n",
    "    def get_special_tokens_not_in(self, tokenizer: AutoTokenizer) -> list[str]:\n",
    "        \"\"\"Find which tokens need to be added to the tokenizer, when using this GridFromatter.\"\"\"\n",
    "        additional_special_tokens = []\n",
    "\n",
    "        grid_formatting_tokens = [\n",
    "            self.start_grid_token,\n",
    "            self.end_grid_token,\n",
    "            self.start_row_token,\n",
    "            self.end_row_token,\n",
    "            self.color_separator_token,\n",
    "        ]\n",
    "\n",
    "        for token in grid_formatting_tokens:\n",
    "            if token not in tokenizer.vocab:\n",
    "                if token != \"\":\n",
    "                    additional_special_tokens.append(token)\n",
    "\n",
    "        return additional_special_tokens\n",
    "\n",
    "    def encode_grid(self, grid: Grid, input_or_output: str) -> str:\n",
    "        \"\"\"Format a Grid into a string to be used inside LLM prompts.\"\"\"\n",
    "        num_rows = len(grid)\n",
    "        formatted_grid = self.start_grid_token\n",
    "\n",
    "        for idx_row in range(num_rows):\n",
    "            formatted_grid += self.start_row_token\n",
    "            row = grid[idx_row]\n",
    "            for color in row[:-1]:\n",
    "                formatted_grid += str(color)\n",
    "                formatted_grid += self.color_separator_token\n",
    "            formatted_grid += str(row[-1])\n",
    "            formatted_grid += self.end_row_token\n",
    "\n",
    "        formatted_grid += self.end_grid_token\n",
    "\n",
    "        return formatted_grid\n",
    "\n",
    "    def encode_pairs(self, pairs: list[dict[str, Grid]]) -> str:\n",
    "        assert len(pairs) > 0\n",
    "        formatted_pairs: str = \"\"\n",
    "\n",
    "        for i, pair in enumerate(pairs):\n",
    "            formatted_example = f\"Input {i}:\\n\"\n",
    "\n",
    "            encode_input_grid = self.encode_grid(pair[\"input\"], input_or_output=\"input\")\n",
    "            formatted_example += encode_input_grid\n",
    "            formatted_example += \"\\n\"\n",
    "\n",
    "            formatted_example += f\"Output {i}:\\n\"\n",
    "            encode_output_grid = self.encode_grid(pair[\"output\"], input_or_output=\"output\")\n",
    "            formatted_example += encode_output_grid\n",
    "            formatted_example += \"\\n\"\n",
    "\n",
    "            formatted_pairs += formatted_example\n",
    "\n",
    "        return formatted_pairs\n"
   ]
  },
  {
   "cell_type": "markdown",
   "metadata": {},
   "source": [
    "## Configs"
   ]
  },
  {
   "cell_type": "code",
   "execution_count": null,
   "metadata": {},
   "outputs": [],
   "source": [
    "BASE_MODEL_ID = \"finetuned_models/base-llama-32-3B-fp32\"\n",
    "# LORA_MODEL_ID = \"finetuned_models/tmp_finetuning_llama_3B_max_seq_3072_comb_instr\"\n",
    "# LORA_MODEL_ID = \"tmp_finetuning_llama_3B_max_seq_3072_comb_short\"\n",
    "# LORA_MODEL_ID = \"tmp_finetuning_llama_3B_max_seq_3072_comb_descr\"\n",
    "\n",
    "# LORA_MODEL_ID = \"tmp_finetuning_llama_32_3B_max_seq_2048_comb_instr\"\n",
    "# LORA_MODEL_ID = \"tmp_finetuning_llama_32_3B_max_seq_2048_comb_descr\"\n",
    "LORA_MODEL_ID = \"finetuned_models/llama_32_3B_rearc_400x200_8bit_lr1_4\"\n",
    "\n",
    "MERGED_MODEL_ID = \"finetuned_models/merged_llama_32_3B_rearc_400x200_8bit_lr1_4-8bit-lr1-4\"\n",
    "assert os.path.exists(MERGED_MODEL_ID), f\"{MERGED_MODEL_ID} does not exist\"\n",
    "\n",
    "PROMPT_FN = PromptSolveInstrV2(grid_formatter=GridFormatter())\n",
    "prompt_type = \"descr\"\n",
    "MAX_SEQ_LENGTH = 2048\n",
    "MAX_NUM_EVAL_TASKS = 8\n",
    "\n",
    "print(f\">>> {BASE_MODEL_ID=}\")\n",
    "print(f\">>> {LORA_MODEL_ID=}\")\n",
    "print(f\">>> {MERGED_MODEL_ID=}\")\n",
    "print(f\">>> {PROMPT_FN=}\")"
   ]
  },
  {
   "cell_type": "markdown",
   "metadata": {},
   "source": [
    "## Data"
   ]
  },
  {
   "cell_type": "code",
   "execution_count": null,
   "metadata": {},
   "outputs": [],
   "source": [
    "train_tasks = ReaderMany(\n",
    "    dataset_dir=\"./kaggle/input\",\n",
    "    dataset_type=\"training\",\n",
    "    read_test_output=True,\n",
    ").read_tasks()\n",
    "\n",
    "eval_tasks = ReaderMany(\n",
    "    dataset_dir=\"./kaggle/input\",\n",
    "    dataset_type=\"evaluation\",\n",
    "    read_test_output=True,\n",
    ").read_tasks()\n",
    "\n",
    "eval_tasks.update(train_tasks)\n",
    "\n",
    "len(eval_tasks)"
   ]
  },
  {
   "cell_type": "markdown",
   "metadata": {},
   "source": [
    "Write\n",
    "\n",
    "**Note** Using a tokenizer in this notebook messed up `vllm`"
   ]
  },
  {
   "cell_type": "code",
   "execution_count": 5,
   "metadata": {},
   "outputs": [],
   "source": [
    "# clean_eval_prompts = get_clean_prompts(\n",
    "#     tasks=eval_tasks,\n",
    "#     model_id=MERGED_MODEL_ID,\n",
    "#     max_seq_length=MAX_SEQ_LENGTH,\n",
    "#     max_num_tasks=MAX_NUM_EVAL_TASKS,\n",
    "#     prompt_fn=PROMPT_FN,\n",
    "# )\n",
    "\n",
    "# with open(f\"clean_eval_data_{prompt_type}.pickle\", \"wb\") as f:\n",
    "#     pickle.dump(clean_eval_prompts, f)"
   ]
  },
  {
   "cell_type": "markdown",
   "metadata": {},
   "source": [
    "Read"
   ]
  },
  {
   "cell_type": "code",
   "execution_count": null,
   "metadata": {},
   "outputs": [],
   "source": [
    "with open(f\"clean_eval_data_{prompt_type}.pickle\", \"rb\") as f:\n",
    "    clean_eval_prompts = pickle.load(f)\n",
    "\n",
    "sorted_task_ids = sorted(clean_eval_prompts)\n",
    "task_id = sorted_task_ids[0]\n",
    "\n",
    "input_prompt_separator = \"<|start_header_id|>assistant<|end_header_id|>\"\n",
    "print(clean_eval_prompts)\n",
    "\n",
    "index = clean_eval_prompts[task_id][1].find(input_prompt_separator)\n",
    "\n",
    "print(f\">>> Number of prompts: {len(clean_eval_prompts)}\")\n",
    "print(f\">>> Number of valid prompts: {sum(x[0] for x in clean_eval_prompts.values())}\")\n",
    "print(f\">>> {index=}\")\n",
    "\n",
    "print(\"---\\nExample prompt:\")\n",
    "print(clean_eval_prompts[task_id][1][:index])\n",
    "print(\"...\")"
   ]
  },
  {
   "cell_type": "markdown",
   "metadata": {},
   "source": [
    "## Inference"
   ]
  },
  {
   "cell_type": "code",
   "execution_count": null,
   "metadata": {},
   "outputs": [],
   "source": [
    "llm = LLM(\n",
    "    model=MERGED_MODEL_ID,\n",
    "    tensor_parallel_size=8,\n",
    "    dtype=\"float16\",\n",
    "    seed=0,\n",
    "    enforce_eager=True,\n",
    "    gpu_memory_utilization=0.90,\n",
    "    cpu_offload_gb=0,\n",
    "    max_seq_len_to_capture=MAX_SEQ_LENGTH,\n",
    ")"
   ]
  },
  {
   "cell_type": "code",
   "execution_count": null,
   "metadata": {},
   "outputs": [],
   "source": [
    "sorted_task_ids = sorted(clean_eval_prompts.keys())\n",
    "valid_indices = []\n",
    "valid_prompts = []\n",
    "for idx, task_id in enumerate(sorted_task_ids):\n",
    "    if clean_eval_prompts[task_id][0]:\n",
    "        index_separator = clean_eval_prompts[task_id][1].find(input_prompt_separator)\n",
    "        new_input_prompt = clean_eval_prompts[task_id][1][:index_separator]\n",
    "        valid_indices.append(idx)\n",
    "        valid_prompts.append(new_input_prompt)\n",
    "\n",
    "print(f\">>> {len(valid_indices)=}\")"
   ]
  },
  {
   "cell_type": "code",
   "execution_count": null,
   "metadata": {},
   "outputs": [],
   "source": [
    "print(valid_prompts[0])\n",
    "print(\"-\" * 60)"
   ]
  },
  {
   "cell_type": "code",
   "execution_count": null,
   "metadata": {},
   "outputs": [],
   "source": [
    "%%time\n",
    "\n",
    "sampling_params = SamplingParams(\n",
    "    temperature=0.00,\n",
    "    top_p=0.95,\n",
    "    logprobs=1,\n",
    "    prompt_logprobs=1,\n",
    "    max_tokens=950,\n",
    ")\n",
    "\n",
    "# Run inference\n",
    "all_requests_outputs = llm.generate(valid_prompts, sampling_params)"
   ]
  },
  {
   "cell_type": "code",
   "execution_count": null,
   "metadata": {},
   "outputs": [],
   "source": [
    "print(f\">>> {len(all_requests_outputs)=}\")\n",
    "print(f\">>> {len(valid_prompts)=}\")"
   ]
  },
  {
   "cell_type": "code",
   "execution_count": 13,
   "metadata": {},
   "outputs": [],
   "source": [
    "DEFAULT_GRID = [[0, 0], [0, 0]]\n",
    "DEFAULT_ATTEMPTS = {\"attempt_1\": DEFAULT_GRID, \"attempt_2\": DEFAULT_GRID}\n",
    "submission = {\n",
    "    task_id: [copy.deepcopy(DEFAULT_ATTEMPTS) for _ in range(len(eval_tasks[task_id][\"test\"]))]\n",
    "    for task_id in sorted_task_ids\n",
    "}"
   ]
  },
  {
   "cell_type": "code",
   "execution_count": null,
   "metadata": {},
   "outputs": [],
   "source": [
    "solved_task_ids = []\n",
    "\n",
    "def pad_grid(grid: list[list[int]], pad_value: int = 10):\n",
    "    padded_grid = []\n",
    "    row_length = len(grid[0])\n",
    "    num_rows = len(grid)\n",
    "\n",
    "    for i in range(30):\n",
    "        padded_row = []\n",
    "        for j in range(30):\n",
    "            c = pad_value\n",
    "            if i < num_rows and j < row_length:\n",
    "               c = grid[i][j]\n",
    "\n",
    "            padded_row.append(c)\n",
    "        padded_grid.append(padded_row)\n",
    "\n",
    "    return np.array(padded_grid, dtype=np.uint8)\n",
    "\n",
    "perc_correct_pixels = []\n",
    "for idx, task_index in enumerate(valid_indices):\n",
    "    task_id = sorted_task_ids[task_index]\n",
    "    expected_output_grid = eval_tasks[task_id][\"test\"][0][\"output\"]\n",
    "    req = all_requests_outputs[idx]\n",
    "    response_body = req.outputs[0].text\n",
    "    # print(f\"{response_body=}\")\n",
    "\n",
    "    grid = copy.deepcopy(DEFAULT_GRID)\n",
    "    try:\n",
    "        # ! Note: need to improve this parsing\n",
    "        # ! ``` is not good to demarcate the end of a grid\n",
    "        start_grid = \"\" # \"!grid\\n\"\n",
    "        end_grid = \"\\n+++\"\n",
    "        start_index = 0 # response_body.find(start_grid)\n",
    "        # end_index = start_index + len(start_grid) + response_body[start_index + len(start_grid):].find(end_grid)\n",
    "        end_index = response_body.find(end_grid)\n",
    "\n",
    "        grid_str = response_body[start_index+len(start_grid):end_index]\n",
    "\n",
    "        grid = [[int(c) for c in row] for row in grid_str.split(\"\\n\")]\n",
    "        print(f\"Response body:    {repr(response_body)}\")\n",
    "        print(f\"Start index grid: {start_index}\")\n",
    "        print(f\"End index grid:   {end_index}\")\n",
    "        print(f\"Grid string:      {repr(grid_str)}\")\n",
    "        print(f\"Pre-parsing grid: {grid}\")\n",
    "        print(f\"{expected_output_grid=}\")\n",
    "\n",
    "        len_first_row = len(grid[0])\n",
    "        for row in grid:\n",
    "            if len(row) != len_first_row:\n",
    "                raise ValueError(\"Not same numbe of row elements\")\n",
    "        if len_first_row == 0:\n",
    "            grid = copy.deepcopy(DEFAULT_GRID)\n",
    "        if len_first_row > 30:\n",
    "            grid = copy.deepcopy(DEFAULT_GRID)\n",
    "        if len(grid) > 30:\n",
    "            grid = copy.deepcopy(DEFAULT_GRID)\n",
    "    except Exception as e:\n",
    "        print(f\"ERROR: {str(e)}\")\n",
    "        grid = copy.deepcopy(DEFAULT_GRID)\n",
    "\n",
    "    print(f\"Final grid: {grid}\")\n",
    "\n",
    "    assert len(grid) <= 30\n",
    "    submission[task_id][0][\"attempt_1\"] = grid\n",
    "    if grid != DEFAULT_GRID:\n",
    "        num_correct_pixels = np.sum(pad_grid(grid, pad_value=10) == pad_grid(expected_output_grid, pad_value=11))\n",
    "        tot_pixels = len(expected_output_grid) * len(expected_output_grid[0])\n",
    "        print(f\"Total same pixels: {num_correct_pixels}\")\n",
    "        print(f\"Number pixels: {tot_pixels}\")\n",
    "        perc_correct_pixels.append(num_correct_pixels / tot_pixels)\n",
    "    else:\n",
    "        print(f\"!ERROR final grid is DEFAULT_GRID={grid=}\")\n",
    "        perc_correct_pixels.append(0.0)\n",
    "\n",
    "\n",
    "    if grid == expected_output_grid:\n",
    "        solved_task_ids.append(task_id)\n",
    "        print(f\"{task_id=} was solved\")\n",
    "        print(f\"{grid=}\")\n",
    "        print(f\"{expected_output_grid=}\")\n",
    "\n",
    "    print(\"-\"* 60)"
   ]
  },
  {
   "cell_type": "code",
   "execution_count": null,
   "metadata": {},
   "outputs": [],
   "source": [
    "solved_task_ids"
   ]
  },
  {
   "cell_type": "code",
   "execution_count": null,
   "metadata": {},
   "outputs": [],
   "source": [
    "print(f\"Average percentage correct pixels: {100 * np.mean(perc_correct_pixels):.2f} %\")\n",
    "print(f\"Percentage correct prompt answers: \"\n",
    "      f\"{len(solved_task_ids)} / {len(sorted_task_ids)} ~ {100*(len(solved_task_ids) / len(sorted_task_ids)):.2f} %\")"
   ]
  },
  {
   "cell_type": "code",
   "execution_count": 19,
   "metadata": {},
   "outputs": [],
   "source": [
    "# import json\n",
    "\n",
    "# with open(\"submission_fp16_descr.json\", \"w\") as f:\n",
    "#     json.dump(submission, f)"
   ]
  },
  {
   "cell_type": "code",
   "execution_count": null,
   "metadata": {},
   "outputs": [],
   "source": [
    "for idx, task_index in enumerate(valid_indices):\n",
    "    task_id = sorted_task_ids[task_index]\n",
    "    expected_output_grid = eval_tasks[task_id][\"test\"][0][\"output\"]\n",
    "    req = all_requests_outputs[idx]\n",
    "    print(req)"
   ]
  },
  {
   "cell_type": "markdown",
   "metadata": {},
   "source": [
    "## Results (caveat: only on 1 test input/ouput)"
   ]
  },
  {
   "cell_type": "markdown",
   "metadata": {},
   "source": [
    "***\n",
    "#### 1 - tmp_finetuning_llama_32_3B_max_seq_2048_comb_instr\n",
    "\n",
    "Solved training (1 input)\n",
    "```python\n",
    "['239be575', '6f8cd79b', '6fa7a44f']\n",
    "```\n",
    "\n",
    "Solved eval (1 input)\n",
    "```python\n",
    "['332efdb3']\n",
    "```\n",
    "\n",
    "```text\n",
    "Average percentage correct pixels: 14.38 %\n",
    "Percentage correct prompt answers: 4 / 800 ~ 0.50 %\n",
    "```"
   ]
  },
  {
   "cell_type": "markdown",
   "metadata": {},
   "source": [
    "#### 2 - tmp_finetuning_llama_32_3B_max_seq_2048_comb_descr\n",
    "\n",
    "Solved training (1 input)\n",
    "\n",
    "```python\n",
    "['25ff71a9', '27a28665', '44f52bb0', '6fa7a44f', 'a85d4709', 'ff28f65a']\n",
    "```\n",
    "\n",
    "Solved eval (1 input)\n",
    "\n",
    "```python\n",
    "['9110e3c5', 'f3e62deb']\n",
    "```\n",
    "\n",
    "```text\n",
    "Average percentage correct pixels: 25.64 %\n",
    "Percentage correct prompt answers: 8 / 800 ~ 1.00 %\n",
    "```"
   ]
  },
  {
   "cell_type": "markdown",
   "metadata": {},
   "source": [
    "3 - `finetuned_models/merged_llama_32_3B_rearc_400x200_8bit_lr1_4-8bit-lr1-4`\n",
    "\n",
    "Solved train (1 input)\n",
    "\n",
    "```python\n",
    "['23b5c85d', '44f52bb0', '6150a2bd', '68b16354', '7b7f7511', '7e0986d6', '7f4411dc', '8be77c9e', '9110e3c5', 'b9b7f026']\n",
    "```\n",
    "\n",
    "Solved eval (1 input)\n",
    "\n",
    "```python\n",
    "['9110e3c5']\n",
    "```\n",
    "\n",
    "```text\n",
    "Average percentage correct pixels: 34.90 %\n",
    "Percentage correct prompt answers: 11 / 800 ~ 1.38 %\n",
    "```"
   ]
  },
  {
   "cell_type": "code",
   "execution_count": null,
   "metadata": {},
   "outputs": [],
   "source": []
  }
 ],
 "metadata": {
  "kernelspec": {
   "display_name": "python-venv",
   "language": "python",
   "name": "python3"
  },
  "language_info": {
   "codemirror_mode": {
    "name": "ipython",
    "version": 3
   },
   "file_extension": ".py",
   "mimetype": "text/x-python",
   "name": "python",
   "nbconvert_exporter": "python",
   "pygments_lexer": "ipython3",
   "version": "3.10.12"
  }
 },
 "nbformat": 4,
 "nbformat_minor": 2
}
